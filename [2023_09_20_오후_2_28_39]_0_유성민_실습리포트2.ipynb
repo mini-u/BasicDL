{
  "nbformat": 4,
  "nbformat_minor": 0,
  "metadata": {
    "colab": {
      "provenance": [],
      "toc_visible": true,
      "include_colab_link": true
    },
    "kernelspec": {
      "name": "python3",
      "display_name": "Python 3"
    },
    "language_info": {
      "name": "python"
    }
  },
  "cells": [
    {
      "cell_type": "markdown",
      "metadata": {
        "id": "view-in-github",
        "colab_type": "text"
      },
      "source": [
        "<a href=\"https://colab.research.google.com/github/mini-u/BasicDL/blob/main/%5B2023_09_20_%EC%98%A4%ED%9B%84_2_28_39%5D_0_%EC%9C%A0%EC%84%B1%EB%AF%BC_%EC%8B%A4%EC%8A%B5%EB%A6%AC%ED%8F%AC%ED%8A%B82.ipynb\" target=\"_parent\"><img src=\"https://colab.research.google.com/assets/colab-badge.svg\" alt=\"Open In Colab\"/></a>"
      ]
    },
    {
      "cell_type": "markdown",
      "source": [
        "## 실습리포트2\n",
        "\n",
        "\n",
        "\n",
        "*   이름: 유성민\n",
        "*   학과: 생명환경공학전공\n",
        "*   학번: 2019110881\n"
      ],
      "metadata": {
        "id": "HRg1FPxikRGG"
      }
    },
    {
      "cell_type": "code",
      "execution_count": null,
      "metadata": {
        "id": "BoUMkLvCjWIn"
      },
      "outputs": [],
      "source": [
        "import numpy as np\n",
        "import matplotlib.pyplot as plt"
      ]
    },
    {
      "cell_type": "markdown",
      "source": [
        "### (1) AND, NAND, OR 게이트함수 구현\n",
        "\n",
        "- 문제: AND, NAND, OR 게이트 함수를 구현하고 동작 확인\n",
        "- 실행결과\n",
        " - AND 게이트는 두 입력이 모두 1일때 1을 출력하고, 그 외에는 모두 0을 출력했다.\n",
        " - NAMD 게이트는 두 입력이 모두 1일때 0을 출력하고, 그 외에는 모두 1을 출력했다.\n",
        " - OR 게이트는 입력 신호 중 하나 이상이 1이면 1을 출력했다."
      ],
      "metadata": {
        "id": "WtSzPQiqlLlW"
      }
    },
    {
      "cell_type": "code",
      "source": [
        "#AND 함수\n",
        "\n",
        "print(\" AND 함수\")\n",
        "def AND(x1, x2):\n",
        "  x = np.array([x1, x2])\n",
        "  w = np.array([0.5,0.5])\n",
        "  b = -0.7\n",
        "  tmp = np.sum(w*x) +b\n",
        "  if tmp <= 0:\n",
        "    return 0\n",
        "  else:\n",
        "    return 1\n",
        "\n",
        "x1 = [0, 1, 0, 1]\n",
        "x2 = [0, 0, 1, 1,]\n",
        "for i in range(4):\n",
        "  y=AND(x1[i], x2[i])\n",
        "  print(f\"({x1[i]}, {x2[i]}) -> {y}\")\n",
        "\n",
        "#NAND 함수\n",
        "print(\"\\n\",\"NAND 함수\")\n",
        "def NAND(x1, x2):\n",
        "  x = np.array([x1, x2])\n",
        "  w = np.array([-0.5,-0.5])\n",
        "  b = 0.7\n",
        "  tmp = np.sum(w*x) +b\n",
        "  if tmp <= 0:\n",
        "    return 0\n",
        "  else:\n",
        "    return 1\n",
        "\n",
        "for i in range(4):\n",
        "  y=NAND(x1[i], x2[i])\n",
        "  print(f\"({x1[i]}, {x2[i]}) -> {y}\")\n",
        "\n",
        "#OR 함수\n",
        "print(\"\\n\",\"OR함수\")\n",
        "def OR(x1, x2):\n",
        "  x = np.array([x1, x2])\n",
        "  w = np.array([0.5,0.5])\n",
        "  b = -0.2\n",
        "  tmp = np.sum(w*x) +b\n",
        "  if tmp <= 0:\n",
        "    return 0\n",
        "  else:\n",
        "    return 1\n",
        "\n",
        "for i in range(4):\n",
        "  y=OR(x1[i], x2[i])\n",
        "  print(f\"({x1[i]}, {x2[i]}) -> {y}\")"
      ],
      "metadata": {
        "colab": {
          "base_uri": "https://localhost:8080/"
        },
        "id": "CVL-0aM1ldJ3",
        "outputId": "4e7bc70b-2bf4-4683-8460-6a1b3e7befd1"
      },
      "execution_count": null,
      "outputs": [
        {
          "output_type": "stream",
          "name": "stdout",
          "text": [
            " AND 함수\n",
            "(0, 0) -> 0\n",
            "(1, 0) -> 0\n",
            "(0, 1) -> 0\n",
            "(1, 1) -> 1\n",
            "\n",
            " NAND 함수\n",
            "(0, 0) -> 1\n",
            "(1, 0) -> 1\n",
            "(0, 1) -> 1\n",
            "(1, 1) -> 0\n",
            "\n",
            " OR함수\n",
            "(0, 0) -> 0\n",
            "(1, 0) -> 1\n",
            "(0, 1) -> 1\n",
            "(1, 1) -> 1\n"
          ]
        }
      ]
    },
    {
      "cell_type": "markdown",
      "source": [
        "### (2) XOR 게이트함수 구현\n",
        "\n",
        "- 문제: AND, NAND, OR 게이트 함수로 2층 퍼셉트론을 구현하고 XOR 동작 확인\n",
        "- 실행결과: 입력신호 중 한 개가 1일 때는 1을 출력하고, 그 외에는 0을 출력했다."
      ],
      "metadata": {
        "id": "WDVqWdVQlm_W"
      }
    },
    {
      "cell_type": "code",
      "source": [
        "#XOR 게이트\n",
        "\n",
        "def XOR(x1, x2):\n",
        "  s1= NAND(x1, x2)\n",
        "  s2= OR(x1, x2)\n",
        "  y= AND(s1, s2)\n",
        "  return y\n",
        "\n",
        "for i in range(4):\n",
        "  y=XOR(x1[i], x2[i])\n",
        "  print(f\"({x1[i]}, {x2[i]}) -> {y}\")"
      ],
      "metadata": {
        "colab": {
          "base_uri": "https://localhost:8080/"
        },
        "id": "lyFUS37alwEP",
        "outputId": "8201cda1-64a2-4953-9566-54a5c67c563f"
      },
      "execution_count": null,
      "outputs": [
        {
          "output_type": "stream",
          "name": "stdout",
          "text": [
            "(0, 0) -> 0\n",
            "(1, 0) -> 1\n",
            "(0, 1) -> 1\n",
            "(1, 1) -> 0\n"
          ]
        }
      ]
    }
  ]
}